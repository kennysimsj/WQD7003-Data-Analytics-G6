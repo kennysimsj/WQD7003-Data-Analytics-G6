{
 "cells": [
  {
   "cell_type": "markdown",
   "id": "38ee2002",
   "metadata": {},
   "source": [
    "What are the indicators of depression, anxiety or stress among the respondents?\n"
   ]
  },
  {
   "cell_type": "code",
   "execution_count": 1,
   "id": "902bed04",
   "metadata": {},
   "outputs": [],
   "source": [
    "#Download Libraries\n",
    "import pandas as pd\n",
    "import numpy as np\n",
    "import matplotlib as plt\n",
    "from scipy.stats import ttest_rel\n",
    "from scipy.stats import chi2_contingency \n",
    "import statsmodels.stats.multicomp as mc\n",
    "import scipy.stats as stats"
   ]
  },
  {
   "cell_type": "code",
   "execution_count": 2,
   "id": "9b76f077",
   "metadata": {},
   "outputs": [
    {
     "data": {
      "text/html": [
       "<div>\n",
       "<style scoped>\n",
       "    .dataframe tbody tr th:only-of-type {\n",
       "        vertical-align: middle;\n",
       "    }\n",
       "\n",
       "    .dataframe tbody tr th {\n",
       "        vertical-align: top;\n",
       "    }\n",
       "\n",
       "    .dataframe thead th {\n",
       "        text-align: right;\n",
       "    }\n",
       "</style>\n",
       "<table border=\"1\" class=\"dataframe\">\n",
       "  <thead>\n",
       "    <tr style=\"text-align: right;\">\n",
       "      <th></th>\n",
       "      <th>Q1A</th>\n",
       "      <th>Q1I</th>\n",
       "      <th>Q2A</th>\n",
       "      <th>Q2I</th>\n",
       "      <th>Q3A</th>\n",
       "      <th>Q3I</th>\n",
       "      <th>Q4A</th>\n",
       "      <th>Q4I</th>\n",
       "      <th>Q5A</th>\n",
       "      <th>Q5I</th>\n",
       "      <th>...</th>\n",
       "      <th>voted</th>\n",
       "      <th>married</th>\n",
       "      <th>familysize</th>\n",
       "      <th>major</th>\n",
       "      <th>depression_scores</th>\n",
       "      <th>anxiety_scores</th>\n",
       "      <th>stress_scores</th>\n",
       "      <th>depression_status</th>\n",
       "      <th>anxiety_status</th>\n",
       "      <th>stress_status</th>\n",
       "    </tr>\n",
       "  </thead>\n",
       "  <tbody>\n",
       "    <tr>\n",
       "      <th>0</th>\n",
       "      <td>4</td>\n",
       "      <td>28</td>\n",
       "      <td>4</td>\n",
       "      <td>25</td>\n",
       "      <td>2</td>\n",
       "      <td>16</td>\n",
       "      <td>4</td>\n",
       "      <td>8</td>\n",
       "      <td>4</td>\n",
       "      <td>34</td>\n",
       "      <td>...</td>\n",
       "      <td>2</td>\n",
       "      <td>1</td>\n",
       "      <td>2</td>\n",
       "      <td>Unknown</td>\n",
       "      <td>41</td>\n",
       "      <td>48</td>\n",
       "      <td>54</td>\n",
       "      <td>Extremely Severe</td>\n",
       "      <td>Extremely Severe</td>\n",
       "      <td>Extremely Severe</td>\n",
       "    </tr>\n",
       "    <tr>\n",
       "      <th>1</th>\n",
       "      <td>4</td>\n",
       "      <td>2</td>\n",
       "      <td>1</td>\n",
       "      <td>36</td>\n",
       "      <td>2</td>\n",
       "      <td>35</td>\n",
       "      <td>3</td>\n",
       "      <td>28</td>\n",
       "      <td>4</td>\n",
       "      <td>10</td>\n",
       "      <td>...</td>\n",
       "      <td>2</td>\n",
       "      <td>1</td>\n",
       "      <td>4</td>\n",
       "      <td>Unknown</td>\n",
       "      <td>38</td>\n",
       "      <td>31</td>\n",
       "      <td>41</td>\n",
       "      <td>Extremely Severe</td>\n",
       "      <td>Extremely Severe</td>\n",
       "      <td>Extremely Severe</td>\n",
       "    </tr>\n",
       "    <tr>\n",
       "      <th>2</th>\n",
       "      <td>3</td>\n",
       "      <td>7</td>\n",
       "      <td>1</td>\n",
       "      <td>33</td>\n",
       "      <td>4</td>\n",
       "      <td>41</td>\n",
       "      <td>1</td>\n",
       "      <td>13</td>\n",
       "      <td>4</td>\n",
       "      <td>11</td>\n",
       "      <td>...</td>\n",
       "      <td>1</td>\n",
       "      <td>1</td>\n",
       "      <td>3</td>\n",
       "      <td>Unknown</td>\n",
       "      <td>53</td>\n",
       "      <td>26</td>\n",
       "      <td>31</td>\n",
       "      <td>Extremely Severe</td>\n",
       "      <td>Extremely Severe</td>\n",
       "      <td>Severe</td>\n",
       "    </tr>\n",
       "    <tr>\n",
       "      <th>3</th>\n",
       "      <td>2</td>\n",
       "      <td>23</td>\n",
       "      <td>3</td>\n",
       "      <td>11</td>\n",
       "      <td>2</td>\n",
       "      <td>37</td>\n",
       "      <td>1</td>\n",
       "      <td>27</td>\n",
       "      <td>3</td>\n",
       "      <td>28</td>\n",
       "      <td>...</td>\n",
       "      <td>2</td>\n",
       "      <td>1</td>\n",
       "      <td>5</td>\n",
       "      <td>biology</td>\n",
       "      <td>30</td>\n",
       "      <td>31</td>\n",
       "      <td>30</td>\n",
       "      <td>Extremely Severe</td>\n",
       "      <td>Extremely Severe</td>\n",
       "      <td>Severe</td>\n",
       "    </tr>\n",
       "    <tr>\n",
       "      <th>4</th>\n",
       "      <td>2</td>\n",
       "      <td>36</td>\n",
       "      <td>2</td>\n",
       "      <td>13</td>\n",
       "      <td>3</td>\n",
       "      <td>5</td>\n",
       "      <td>4</td>\n",
       "      <td>10</td>\n",
       "      <td>4</td>\n",
       "      <td>2</td>\n",
       "      <td>...</td>\n",
       "      <td>2</td>\n",
       "      <td>1</td>\n",
       "      <td>4</td>\n",
       "      <td>Psychology</td>\n",
       "      <td>46</td>\n",
       "      <td>54</td>\n",
       "      <td>43</td>\n",
       "      <td>Extremely Severe</td>\n",
       "      <td>Extremely Severe</td>\n",
       "      <td>Extremely Severe</td>\n",
       "    </tr>\n",
       "    <tr>\n",
       "      <th>...</th>\n",
       "      <td>...</td>\n",
       "      <td>...</td>\n",
       "      <td>...</td>\n",
       "      <td>...</td>\n",
       "      <td>...</td>\n",
       "      <td>...</td>\n",
       "      <td>...</td>\n",
       "      <td>...</td>\n",
       "      <td>...</td>\n",
       "      <td>...</td>\n",
       "      <td>...</td>\n",
       "      <td>...</td>\n",
       "      <td>...</td>\n",
       "      <td>...</td>\n",
       "      <td>...</td>\n",
       "      <td>...</td>\n",
       "      <td>...</td>\n",
       "      <td>...</td>\n",
       "      <td>...</td>\n",
       "      <td>...</td>\n",
       "      <td>...</td>\n",
       "    </tr>\n",
       "    <tr>\n",
       "      <th>39770</th>\n",
       "      <td>2</td>\n",
       "      <td>31</td>\n",
       "      <td>1</td>\n",
       "      <td>5</td>\n",
       "      <td>3</td>\n",
       "      <td>29</td>\n",
       "      <td>2</td>\n",
       "      <td>37</td>\n",
       "      <td>3</td>\n",
       "      <td>39</td>\n",
       "      <td>...</td>\n",
       "      <td>2</td>\n",
       "      <td>1</td>\n",
       "      <td>2</td>\n",
       "      <td>Unknown</td>\n",
       "      <td>50</td>\n",
       "      <td>26</td>\n",
       "      <td>29</td>\n",
       "      <td>Extremely Severe</td>\n",
       "      <td>Extremely Severe</td>\n",
       "      <td>Severe</td>\n",
       "    </tr>\n",
       "    <tr>\n",
       "      <th>39771</th>\n",
       "      <td>3</td>\n",
       "      <td>14</td>\n",
       "      <td>4</td>\n",
       "      <td>41</td>\n",
       "      <td>3</td>\n",
       "      <td>15</td>\n",
       "      <td>4</td>\n",
       "      <td>33</td>\n",
       "      <td>3</td>\n",
       "      <td>17</td>\n",
       "      <td>...</td>\n",
       "      <td>2</td>\n",
       "      <td>1</td>\n",
       "      <td>4</td>\n",
       "      <td>Mathematic</td>\n",
       "      <td>52</td>\n",
       "      <td>48</td>\n",
       "      <td>48</td>\n",
       "      <td>Extremely Severe</td>\n",
       "      <td>Extremely Severe</td>\n",
       "      <td>Extremely Severe</td>\n",
       "    </tr>\n",
       "    <tr>\n",
       "      <th>39772</th>\n",
       "      <td>2</td>\n",
       "      <td>1</td>\n",
       "      <td>1</td>\n",
       "      <td>4</td>\n",
       "      <td>2</td>\n",
       "      <td>14</td>\n",
       "      <td>1</td>\n",
       "      <td>27</td>\n",
       "      <td>1</td>\n",
       "      <td>6</td>\n",
       "      <td>...</td>\n",
       "      <td>1</td>\n",
       "      <td>2</td>\n",
       "      <td>3</td>\n",
       "      <td>Computer Science</td>\n",
       "      <td>18</td>\n",
       "      <td>15</td>\n",
       "      <td>19</td>\n",
       "      <td>Moderate</td>\n",
       "      <td>Severe</td>\n",
       "      <td>Moderate</td>\n",
       "    </tr>\n",
       "    <tr>\n",
       "      <th>39773</th>\n",
       "      <td>3</td>\n",
       "      <td>36</td>\n",
       "      <td>1</td>\n",
       "      <td>34</td>\n",
       "      <td>2</td>\n",
       "      <td>10</td>\n",
       "      <td>2</td>\n",
       "      <td>20</td>\n",
       "      <td>3</td>\n",
       "      <td>9</td>\n",
       "      <td>...</td>\n",
       "      <td>1</td>\n",
       "      <td>1</td>\n",
       "      <td>2</td>\n",
       "      <td>History</td>\n",
       "      <td>30</td>\n",
       "      <td>27</td>\n",
       "      <td>47</td>\n",
       "      <td>Extremely Severe</td>\n",
       "      <td>Extremely Severe</td>\n",
       "      <td>Extremely Severe</td>\n",
       "    </tr>\n",
       "    <tr>\n",
       "      <th>39774</th>\n",
       "      <td>2</td>\n",
       "      <td>28</td>\n",
       "      <td>1</td>\n",
       "      <td>22</td>\n",
       "      <td>2</td>\n",
       "      <td>4</td>\n",
       "      <td>1</td>\n",
       "      <td>19</td>\n",
       "      <td>4</td>\n",
       "      <td>32</td>\n",
       "      <td>...</td>\n",
       "      <td>1</td>\n",
       "      <td>1</td>\n",
       "      <td>4</td>\n",
       "      <td>Cognitive Science</td>\n",
       "      <td>41</td>\n",
       "      <td>24</td>\n",
       "      <td>30</td>\n",
       "      <td>Extremely Severe</td>\n",
       "      <td>Extremely Severe</td>\n",
       "      <td>Severe</td>\n",
       "    </tr>\n",
       "  </tbody>\n",
       "</table>\n",
       "<p>39775 rows × 133 columns</p>\n",
       "</div>"
      ],
      "text/plain": [
       "       Q1A  Q1I  Q2A  Q2I  Q3A  Q3I  Q4A  Q4I  Q5A  Q5I  ...  voted  married  \\\n",
       "0        4   28    4   25    2   16    4    8    4   34  ...      2        1   \n",
       "1        4    2    1   36    2   35    3   28    4   10  ...      2        1   \n",
       "2        3    7    1   33    4   41    1   13    4   11  ...      1        1   \n",
       "3        2   23    3   11    2   37    1   27    3   28  ...      2        1   \n",
       "4        2   36    2   13    3    5    4   10    4    2  ...      2        1   \n",
       "...    ...  ...  ...  ...  ...  ...  ...  ...  ...  ...  ...    ...      ...   \n",
       "39770    2   31    1    5    3   29    2   37    3   39  ...      2        1   \n",
       "39771    3   14    4   41    3   15    4   33    3   17  ...      2        1   \n",
       "39772    2    1    1    4    2   14    1   27    1    6  ...      1        2   \n",
       "39773    3   36    1   34    2   10    2   20    3    9  ...      1        1   \n",
       "39774    2   28    1   22    2    4    1   19    4   32  ...      1        1   \n",
       "\n",
       "       familysize              major  depression_scores  anxiety_scores  \\\n",
       "0               2            Unknown                 41              48   \n",
       "1               4            Unknown                 38              31   \n",
       "2               3            Unknown                 53              26   \n",
       "3               5            biology                 30              31   \n",
       "4               4         Psychology                 46              54   \n",
       "...           ...                ...                ...             ...   \n",
       "39770           2            Unknown                 50              26   \n",
       "39771           4         Mathematic                 52              48   \n",
       "39772           3   Computer Science                 18              15   \n",
       "39773           2            History                 30              27   \n",
       "39774           4  Cognitive Science                 41              24   \n",
       "\n",
       "       stress_scores  depression_status    anxiety_status     stress_status  \n",
       "0                 54   Extremely Severe  Extremely Severe  Extremely Severe  \n",
       "1                 41   Extremely Severe  Extremely Severe  Extremely Severe  \n",
       "2                 31   Extremely Severe  Extremely Severe            Severe  \n",
       "3                 30   Extremely Severe  Extremely Severe            Severe  \n",
       "4                 43   Extremely Severe  Extremely Severe  Extremely Severe  \n",
       "...              ...                ...               ...               ...  \n",
       "39770             29   Extremely Severe  Extremely Severe            Severe  \n",
       "39771             48   Extremely Severe  Extremely Severe  Extremely Severe  \n",
       "39772             19           Moderate            Severe          Moderate  \n",
       "39773             47   Extremely Severe  Extremely Severe  Extremely Severe  \n",
       "39774             30   Extremely Severe  Extremely Severe            Severe  \n",
       "\n",
       "[39775 rows x 133 columns]"
      ]
     },
     "execution_count": 2,
     "metadata": {},
     "output_type": "execute_result"
    }
   ],
   "source": [
    "# Read file using pandas\n",
    "df = pd.read_csv('modified_dataset.csv')\n",
    "df"
   ]
  },
  {
   "cell_type": "markdown",
   "id": "a311bad0",
   "metadata": {},
   "source": [
    "A few of them are numerical such as: age and family size. We will use ANOVA Test for these variables.The rest is categorical. For categorical, we will use Chi Square Test."
   ]
  },
  {
   "cell_type": "markdown",
   "id": "71b56527",
   "metadata": {},
   "source": [
    "Depression"
   ]
  },
  {
   "cell_type": "code",
   "execution_count": 3,
   "id": "ee7247d0",
   "metadata": {
    "scrolled": true
   },
   "outputs": [
    {
     "name": "stdout",
     "output_type": "stream",
     "text": [
      "chi2 value:  733.4069417820731\n",
      "p value:  4.582027470758336e-153\n",
      "dof value:  8\n",
      "Depression and Education NOT independent of each other. There are relationships between these categorical variables.\n"
     ]
    }
   ],
   "source": [
    "#Depression and education\n",
    "info = pd.crosstab(index=df['depression_status'], columns=df['education'])\n",
    "\n",
    "# perform chi square\n",
    "#print(info.values.tolist())\n",
    "chi2, p, dof, _ = chi2_contingency(info.values.tolist())\n",
    "print('chi2 value: ', chi2)\n",
    "print('p value: ', p)\n",
    "print('dof value: ', dof)\n",
    "\n",
    "\n",
    "if p < 0.05:\n",
    "  print(\n",
    "      'Depression and Education NOT independent of each other. There are relationships between these categorical variables.'\n",
    "  )\n",
    "else:\n",
    "    print(\n",
    "      'Depression and Education are independent of each other.'\n",
    "  )"
   ]
  },
  {
   "cell_type": "code",
   "execution_count": 4,
   "id": "c42b618e",
   "metadata": {},
   "outputs": [
    {
     "name": "stdout",
     "output_type": "stream",
     "text": [
      "chi2 value:  23.546641090985023\n",
      "p value:  0.0006326203576353957\n",
      "dof value:  6\n",
      "Depression and Urban are NOT independent of each other. There are relationships between these categorical variables.\n"
     ]
    }
   ],
   "source": [
    "#Depression and urban\n",
    "info = pd.crosstab(index=df['depression_status'], columns=df['urban'])\n",
    "\n",
    "# perform chi square\n",
    "#print(info.values.tolist())\n",
    "chi2, p, dof, _ = chi2_contingency(info.values.tolist())\n",
    "print('chi2 value: ', chi2)\n",
    "print('p value: ', p)\n",
    "print('dof value: ', dof)\n",
    "\n",
    "\n",
    "if p < 0.05:\n",
    "  print(\n",
    "      'Depression and Urban are NOT independent of each other. There are relationships between these categorical variables.'\n",
    "  )\n",
    "else:\n",
    "    print(\n",
    "      'Depression and Urban are independent of each other.'\n",
    "  )"
   ]
  },
  {
   "cell_type": "code",
   "execution_count": 5,
   "id": "8645aaa3",
   "metadata": {},
   "outputs": [
    {
     "name": "stdout",
     "output_type": "stream",
     "text": [
      "chi2 value:  151.11162404519555\n",
      "p value:  4.503272186122182e-30\n",
      "dof value:  6\n",
      "Depression and gender are NOT independent of each other. There are relationships between these categorical variables.\n"
     ]
    }
   ],
   "source": [
    "#Depression and gender\n",
    "info = pd.crosstab(index=df['depression_status'], columns=df['gender'])\n",
    "\n",
    "# perform chi square\n",
    "#print(info.values.tolist())\n",
    "chi2, p, dof, _ = chi2_contingency(info.values.tolist())\n",
    "print('chi2 value: ', chi2)\n",
    "print('p value: ', p)\n",
    "print('dof value: ', dof)\n",
    "\n",
    "\n",
    "if p < 0.05:\n",
    "  print(\n",
    "      'Depression and gender are NOT independent of each other. There are relationships between these categorical variables.'\n",
    "  )\n",
    "else:\n",
    "    print(\n",
    "      'Depression and gender are independent of each other.'\n",
    "  )"
   ]
  },
  {
   "cell_type": "code",
   "execution_count": 6,
   "id": "c6c191a2",
   "metadata": {},
   "outputs": [
    {
     "name": "stdout",
     "output_type": "stream",
     "text": [
      "chi2 value:  31.653973392043397\n",
      "p value:  2.2512999625360503e-06\n",
      "dof value:  4\n",
      "Depression and engnat are NOT independent of each other. There are relationships between these categorical variables.\n"
     ]
    }
   ],
   "source": [
    "#Depression and engnat\n",
    "info = pd.crosstab(index=df['depression_status'], columns=df['engnat'])\n",
    "\n",
    "# perform chi square\n",
    "#print(info.values.tolist())\n",
    "chi2, p, dof, _ = chi2_contingency(info.values.tolist())\n",
    "print('chi2 value: ', chi2)\n",
    "print('p value: ', p)\n",
    "print('dof value: ', dof)\n",
    "\n",
    "\n",
    "if p < 0.05:\n",
    "  print(\n",
    "      'Depression and engnat are NOT independent of each other. There are relationships between these categorical variables.'\n",
    "  )\n",
    "else:\n",
    "    print(\n",
    "      'Depression and engnat are independent of each other'\n",
    "  )"
   ]
  },
  {
   "cell_type": "code",
   "execution_count": 7,
   "id": "31138189",
   "metadata": {},
   "outputs": [
    {
     "name": "stdout",
     "output_type": "stream",
     "text": [
      "F : 61.40216947976065\n",
      "p value: 2.368434869860284e-27\n",
      "Depression and age has significant difference between the groups.\n"
     ]
    }
   ],
   "source": [
    "#Depression and age\n",
    "#https://www.pythonfordatascience.org/anova-python/\n",
    "F,p =stats.f_oneway(df['age'][df['depression_status'] == 'Extremely Severe'],\n",
    "               df['age'][df['depression_status'] == 'Severe'],\n",
    "               df['age'][df['depression_status'] == 'Moderate'])\n",
    "print('F :', F)\n",
    "print('p value:', p)\n",
    "if p < 0.05:\n",
    "  print(\n",
    "      'Depression and age has significant difference between the groups.'\n",
    "  )\n",
    "else:\n",
    "    print(\n",
    "      'Depression and age has NO significant difference between the groups.'\n",
    "  )"
   ]
  },
  {
   "cell_type": "code",
   "execution_count": 8,
   "id": "5636ac6e",
   "metadata": {},
   "outputs": [
    {
     "name": "stdout",
     "output_type": "stream",
     "text": [
      "      Multiple Comparison of Means - Tukey HSD, FWER=0.05      \n",
      "===============================================================\n",
      "     group1       group2  meandiff p-adj  lower   upper  reject\n",
      "---------------------------------------------------------------\n",
      "Extremely Severe Moderate   3.2777 0.001  2.5607  3.9946   True\n",
      "Extremely Severe   Severe   1.4225 0.001   0.728   2.117   True\n",
      "        Moderate   Severe  -1.8552 0.001 -2.7543 -0.9561   True\n",
      "---------------------------------------------------------------\n",
      "There is a statistically significant difference in age between depression status of all groups. \n",
      "Figure(720x432)\n",
      "The age group around the age of 24 to 25 is the most severe for depression status.\n"
     ]
    },
    {
     "data": {
      "image/png": "[encoded data removed]",
      "text/plain": [
       "<Figure size 720x432 with 1 Axes>"
      ]
     },
     "metadata": {
      "needs_background": "light"
     },
     "output_type": "display_data"
    }
   ],
   "source": [
    "#post hoc\n",
    "comp = mc.MultiComparison(df['age'], df['depression_status'])\n",
    "post_hoc_res = comp.tukeyhsd()\n",
    "print(post_hoc_res.summary())\n",
    "print(\"There is a statistically significant difference in age between depression status of all groups. \")\n",
    "print(post_hoc_res.plot_simultaneous(ylabel= \"Depression Status\", xlabel= \"Age\"))\n",
    "print(\"The age group around the age of 24 to 25 is the most severe for depression status.\")"
   ]
  },
  {
   "cell_type": "code",
   "execution_count": 9,
   "id": "287f5829",
   "metadata": {},
   "outputs": [
    {
     "name": "stdout",
     "output_type": "stream",
     "text": [
      "chi2 value:  44.03308244032163\n",
      "p value:  2.743706407477002e-10\n",
      "dof value:  2\n",
      "Depression and screensize are NOT independent of each other. There are relationships between these categorical variables.\n"
     ]
    }
   ],
   "source": [
    "#Depression and screensize\n",
    "info = pd.crosstab(index=df['depression_status'], columns=df['screensize'])\n",
    "\n",
    "# perform chi square\n",
    "#print(info.values.tolist())\n",
    "chi2, p, dof, _ = chi2_contingency(info.values.tolist())\n",
    "print('chi2 value: ', chi2)\n",
    "print('p value: ', p)\n",
    "print('dof value: ', dof)\n",
    "\n",
    "\n",
    "if p < 0.05:\n",
    "  print(\n",
    "      'Depression and screensize are NOT independent of each other. There are relationships between these categorical variables.'\n",
    "  )\n",
    "else:\n",
    "    print(\n",
    "      'Depression and screensize are independent of each other.'\n",
    "  )"
   ]
  },
  {
   "cell_type": "code",
   "execution_count": 10,
   "id": "7588c371",
   "metadata": {},
   "outputs": [
    {
     "name": "stdout",
     "output_type": "stream",
     "text": [
      "chi2 value:  44.37096715849386\n",
      "p value:  2.3172180521084596e-10\n",
      "dof value:  2\n",
      "Depression and uniquenetworklocation are NOT independent of each other. There are relationships between these categorical variables.\n"
     ]
    }
   ],
   "source": [
    "#Depression and uniquenetworklocation\n",
    "info = pd.crosstab(index=df['depression_status'], columns=df['uniquenetworklocation'])\n",
    "\n",
    "# perform chi square\n",
    "#print(info.values.tolist())\n",
    "chi2, p, dof, _ = chi2_contingency(info.values.tolist())\n",
    "print('chi2 value: ', chi2)\n",
    "print('p value: ', p)\n",
    "print('dof value: ', dof)\n",
    "\n",
    "\n",
    "if p < 0.05:\n",
    "  print(\n",
    "      'Depression and uniquenetworklocation are NOT independent of each other. There are relationships between these categorical variables.'\n",
    "  )\n",
    "else:\n",
    "    print(\n",
    "      'Depression and uniquenetworklocation are independent of each other'\n",
    "  )"
   ]
  },
  {
   "cell_type": "code",
   "execution_count": 11,
   "id": "4f1d1c0a",
   "metadata": {},
   "outputs": [
    {
     "name": "stdout",
     "output_type": "stream",
     "text": [
      "chi2 value:  24.742691662584903\n",
      "p value:  0.00038100904681232666\n",
      "dof value:  6\n",
      "Depression and hand are NOT independent of each other. There are relationships between these categorical variables.\n"
     ]
    }
   ],
   "source": [
    "#Depression and hand\n",
    "info = pd.crosstab(index=df['depression_status'], columns=df['hand'])\n",
    "\n",
    "# perform chi square\n",
    "#print(info.values.tolist())\n",
    "chi2, p, dof, _ = chi2_contingency(info.values.tolist())\n",
    "print('chi2 value: ', chi2)\n",
    "print('p value: ', p)\n",
    "print('dof value: ', dof)\n",
    "\n",
    "\n",
    "if p < 0.05:\n",
    "  print(\n",
    "      'Depression and hand are NOT independent of each other. There are relationships between these categorical variables.'\n",
    "  )\n",
    "else:\n",
    "    print(\n",
    "      'Depression and hand are independent of each other.'\n",
    "  )"
   ]
  },
  {
   "cell_type": "code",
   "execution_count": 12,
   "id": "5b060772",
   "metadata": {},
   "outputs": [
    {
     "name": "stdout",
     "output_type": "stream",
     "text": [
      "chi2 value:  277.1924305897115\n",
      "p value:  6.341076021622195e-45\n",
      "dof value:  24\n",
      "Depression and religion are NOT independent of each other. There are relationships between these categorical variables.\n"
     ]
    }
   ],
   "source": [
    "#Depression and religion\n",
    "info = pd.crosstab(index=df['depression_status'], columns=df['religion'])\n",
    "\n",
    "# perform chi square\n",
    "#print(info.values.tolist())\n",
    "chi2, p, dof, _ = chi2_contingency(info.values.tolist())\n",
    "print('chi2 value: ', chi2)\n",
    "print('p value: ', p)\n",
    "print('dof value: ', dof)\n",
    "\n",
    "\n",
    "if p < 0.05:\n",
    "  print(\n",
    "      'Depression and religion are NOT independent of each other. There are relationships between these categorical variables.'\n",
    "  )\n",
    "else:\n",
    "    print(\n",
    "      'Depression and religion are independent of each other.'\n",
    "  )"
   ]
  },
  {
   "cell_type": "code",
   "execution_count": 13,
   "id": "2ced1f43",
   "metadata": {},
   "outputs": [
    {
     "name": "stdout",
     "output_type": "stream",
     "text": [
      "chi2 value:  417.64672293292233\n",
      "p value:  1.6460010334473368e-83\n",
      "dof value:  10\n",
      "Depression and orientation are NOT independent of each other. There are relationships between these categorical variables.\n"
     ]
    }
   ],
   "source": [
    "#Depression and orientation\n",
    "info = pd.crosstab(index=df['depression_status'], columns=df['orientation'])\n",
    "\n",
    "# perform chi square\n",
    "#print(info.values.tolist())\n",
    "chi2, p, dof, _ = chi2_contingency(info.values.tolist())\n",
    "print('chi2 value: ', chi2)\n",
    "print('p value: ', p)\n",
    "print('dof value: ', dof)\n",
    "\n",
    "\n",
    "if p < 0.05:\n",
    "  print(\n",
    "      'Depression and orientation are NOT independent of each other. There are relationships between these categorical variables.'\n",
    "  )\n",
    "else:\n",
    "    print(\n",
    "      'Depression and orientation are independent of each other.'\n",
    "  )"
   ]
  },
  {
   "cell_type": "code",
   "execution_count": 14,
   "id": "31f5c1da",
   "metadata": {},
   "outputs": [
    {
     "name": "stdout",
     "output_type": "stream",
     "text": [
      "chi2 value:  98.28834900721705\n",
      "p value:  1.2041286978242113e-15\n",
      "dof value:  12\n",
      "Depression and race are NOT independent of each other. There are relationships between these categorical variables.\n"
     ]
    }
   ],
   "source": [
    "#Depression and race\n",
    "info = pd.crosstab(index=df['depression_status'], columns=df['race'])\n",
    "\n",
    "# perform chi square\n",
    "#print(info.values.tolist())\n",
    "chi2, p, dof, _ = chi2_contingency(info.values.tolist())\n",
    "print('chi2 value: ', chi2)\n",
    "print('p value: ', p)\n",
    "print('dof value: ', dof)\n",
    "\n",
    "\n",
    "if p < 0.05:\n",
    "  print(\n",
    "      'Depression and race are NOT independent of each other. There are relationships between these categorical variables.'\n",
    "  )\n",
    "else:\n",
    "    print(\n",
    "      'Depression and race are independent of each other.'\n",
    "  )"
   ]
  },
  {
   "cell_type": "code",
   "execution_count": 15,
   "id": "37eaec76",
   "metadata": {},
   "outputs": [
    {
     "name": "stdout",
     "output_type": "stream",
     "text": [
      "chi2 value:  333.36608993933606\n",
      "p value:  6.83852587656601e-71\n",
      "dof value:  4\n",
      "Depression and voted are NOT independent of each other. There are relationships between these categorical variables.\n"
     ]
    }
   ],
   "source": [
    "#Depression and voted\n",
    "info = pd.crosstab(index=df['depression_status'], columns=df['voted'])\n",
    "\n",
    "# perform chi square\n",
    "#print(info.values.tolist())\n",
    "chi2, p, dof, _ = chi2_contingency(info.values.tolist())\n",
    "print('chi2 value: ', chi2)\n",
    "print('p value: ', p)\n",
    "print('dof value: ', dof)\n",
    "\n",
    "\n",
    "if p < 0.05:\n",
    "  print(\n",
    "      'Depression and voted are NOT independent of each other. There are relationships between these categorical variables.'\n",
    "  )\n",
    "else:\n",
    "    print(\n",
    "      'Depression and voted are independent of each other.'\n",
    "  )"
   ]
  },
  {
   "cell_type": "code",
   "execution_count": 16,
   "id": "a93cbb88",
   "metadata": {
    "scrolled": true
   },
   "outputs": [
    {
     "name": "stdout",
     "output_type": "stream",
     "text": [
      "chi2 value:  720.5713503737193\n",
      "p value:  2.211027650468862e-152\n",
      "dof value:  6\n",
      "Depression and married are NOT independent of each other. There are relationships between these categorical variables.\n"
     ]
    }
   ],
   "source": [
    "#Depression and married\n",
    "info = pd.crosstab(index=df['depression_status'], columns=df['married'])\n",
    "\n",
    "# perform chi square\n",
    "#print(info.values.tolist())\n",
    "chi2, p, dof, _ = chi2_contingency(info.values.tolist())\n",
    "print('chi2 value: ', chi2)\n",
    "print('p value: ', p)\n",
    "print('dof value: ', dof)\n",
    "\n",
    "\n",
    "if p < 0.05:\n",
    "  print(\n",
    "      'Depression and married are NOT independent of each other. There are relationships between these categorical variables.'\n",
    "  )\n",
    "else:\n",
    "    print(\n",
    "      'Depression and married are independent of each other.'\n",
    "  )"
   ]
  },
  {
   "cell_type": "code",
   "execution_count": 17,
   "id": "6449a2bc",
   "metadata": {},
   "outputs": [
    {
     "name": "stdout",
     "output_type": "stream",
     "text": [
      "F : 28.448987754225577\n",
      "p value: 4.5039224954453383e-13\n",
      "Depression and family size has significant difference between the groups.\n"
     ]
    }
   ],
   "source": [
    "#Depression and family size\n",
    "F,p =stats.f_oneway(df['familysize'][df['depression_status'] == 'Extremely Severe'],\n",
    "               df['familysize'][df['depression_status'] == 'Severe'],\n",
    "               df['familysize'][df['depression_status'] == 'Moderate'])\n",
    "print('F :', F)\n",
    "print('p value:', p)\n",
    "if p < 0.05:\n",
    "  print(\n",
    "      'Depression and family size has significant difference between the groups.'\n",
    "  )\n",
    "else:\n",
    "    print(\n",
    "      'Depression and family size has NO significant difference between the groups.'\n",
    "  )"
   ]
  },
  {
   "cell_type": "code",
   "execution_count": 18,
   "id": "54886c34",
   "metadata": {},
   "outputs": [
    {
     "name": "stdout",
     "output_type": "stream",
     "text": [
      "     Multiple Comparison of Means - Tukey HSD, FWER=0.05      \n",
      "==============================================================\n",
      "     group1       group2  meandiff p-adj  lower  upper  reject\n",
      "--------------------------------------------------------------\n",
      "Extremely Severe Moderate   0.1685 0.001  0.0973 0.2397   True\n",
      "Extremely Severe   Severe   0.1785 0.001  0.1096 0.2475   True\n",
      "        Moderate   Severe     0.01   0.9 -0.0793 0.0993  False\n",
      "--------------------------------------------------------------\n",
      "There is a statistically significant difference in family size between those who depression status are severe and extremely severe, and depression status are moderate and extremely severe, no other groups differed significantly. \n",
      "Figure(720x432)\n"
     ]
    },
    {
     "data": {
      "image/png": "[encoded data removed]",
      "text/plain": [
       "<Figure size 720x432 with 1 Axes>"
      ]
     },
     "metadata": {
      "needs_background": "light"
     },
     "output_type": "display_data"
    }
   ],
   "source": [
    "#post hoc\n",
    "comp = mc.MultiComparison(df['familysize'], df['depression_status'])\n",
    "post_hoc_res = comp.tukeyhsd()\n",
    "print(post_hoc_res.summary())\n",
    "print(\"There is a statistically significant difference in family size between those who depression status are severe and extremely severe, and depression status are moderate and extremely severe, no other groups differed significantly. \")\n",
    "print(post_hoc_res.plot_simultaneous(ylabel= \"Depression Status\", xlabel= \"Family Size\"))"
   ]
  },
  {
   "cell_type": "code",
   "execution_count": 19,
   "id": "14bb99aa",
   "metadata": {
    "scrolled": false
   },
   "outputs": [
    {
     "name": "stdout",
     "output_type": "stream",
     "text": [
      "chi2 value:  11941.191323365563\n",
      "p value:  1.104605642970993e-18\n",
      "dof value:  10616\n",
      "Depression and major are NOT independent of each other. There are relationships between these categorical variables.\n"
     ]
    }
   ],
   "source": [
    "#Depression and major\n",
    "info = pd.crosstab(index=df['depression_status'], columns=df['major'])\n",
    "\n",
    "# perform chi square\n",
    "#print(info.values.tolist())\n",
    "chi2, p, dof, _ = chi2_contingency(info.values.tolist())\n",
    "print('chi2 value: ', chi2)\n",
    "print('p value: ', p)\n",
    "print('dof value: ', dof)\n",
    "\n",
    "\n",
    "if p < 0.05:\n",
    "  print(\n",
    "      'Depression and major are NOT independent of each other. There are relationships between these categorical variables.'\n",
    "  )\n",
    "else:\n",
    "    print(\n",
    "      'Depression and major are independent of each other'\n",
    "  )"
   ]
  },
  {
   "cell_type": "markdown",
   "id": "72755fa3",
   "metadata": {},
   "source": [
    "Anxiety\n"
   ]
  },
  {
   "cell_type": "code",
   "execution_count": 20,
   "id": "a3fbb690",
   "metadata": {
    "scrolled": true
   },
   "outputs": [
    {
     "name": "stdout",
     "output_type": "stream",
     "text": [
      "chi2 value:  640.3353025252006\n",
      "p value:  4.9546452712756546e-133\n",
      "dof value:  8\n",
      "Anxiety and Education are NOT independent of each other. There are relationships between these categorical variables.\n"
     ]
    }
   ],
   "source": [
    "#Anxiety and education\n",
    "info = pd.crosstab(index=df['anxiety_status'], columns=df['education'])\n",
    "\n",
    "# perform chi square\n",
    "#print(info.values.tolist())\n",
    "chi2, p, dof, _ = chi2_contingency(info.values.tolist())\n",
    "print('chi2 value: ', chi2)\n",
    "print('p value: ', p)\n",
    "print('dof value: ', dof)\n",
    "\n",
    "\n",
    "if p < 0.05:\n",
    "  print(\n",
    "      'Anxiety and Education are NOT independent of each other. There are relationships between these categorical variables.'\n",
    "  )\n",
    "else:\n",
    "    print(\n",
    "      'Anxiety and Education are independent of each other.'\n",
    "  )"
   ]
  },
  {
   "cell_type": "code",
   "execution_count": 21,
   "id": "979ddb2f",
   "metadata": {},
   "outputs": [
    {
     "name": "stdout",
     "output_type": "stream",
     "text": [
      "chi2 value:  33.58539065517674\n",
      "p value:  8.088132201879936e-06\n",
      "dof value:  6\n",
      "Anxiety and Urban are NOT independent of each other. There are relationships between these categorical variables.\n"
     ]
    }
   ],
   "source": [
    "#Anxiety and urban\n",
    "info = pd.crosstab(index=df['anxiety_status'], columns=df['urban'])\n",
    "\n",
    "# perform chi square\n",
    "#print(info.values.tolist())\n",
    "chi2, p, dof, _ = chi2_contingency(info.values.tolist())\n",
    "print('chi2 value: ', chi2)\n",
    "print('p value: ', p)\n",
    "print('dof value: ', dof)\n",
    "\n",
    "\n",
    "if p < 0.05:\n",
    "  print(\n",
    "      'Anxiety and Urban are NOT independent of each other. There are relationships between these categorical variables.'\n",
    "  )\n",
    "else:\n",
    "    print(\n",
    "      'Anxiety and Urban are independent of each other.'\n",
    "  )"
   ]
  },
  {
   "cell_type": "code",
   "execution_count": 22,
   "id": "6b723afc",
   "metadata": {},
   "outputs": [
    {
     "name": "stdout",
     "output_type": "stream",
     "text": [
      "chi2 value:  575.1493386071479\n",
      "p value:  5.33825873123868e-121\n",
      "dof value:  6\n",
      "Anxiety and gender are NOT independent of each other. There are relationships between these categorical variables.\n"
     ]
    }
   ],
   "source": [
    "#Anxiety and gender\n",
    "info = pd.crosstab(index=df['anxiety_status'], columns=df['gender'])\n",
    "\n",
    "# perform chi square\n",
    "#print(info.values.tolist())\n",
    "chi2, p, dof, _ = chi2_contingency(info.values.tolist())\n",
    "print('chi2 value: ', chi2)\n",
    "print('p value: ', p)\n",
    "print('dof value: ', dof)\n",
    "\n",
    "\n",
    "if p < 0.05:\n",
    "  print(\n",
    "      'Anxiety and gender are NOT independent of each other. There are relationships between these categorical variables.'\n",
    "  )\n",
    "else:\n",
    "    print(\n",
    "      'Anxiety and gender are independent of each other.'\n",
    "  )"
   ]
  },
  {
   "cell_type": "code",
   "execution_count": 23,
   "id": "bca19738",
   "metadata": {},
   "outputs": [
    {
     "name": "stdout",
     "output_type": "stream",
     "text": [
      "chi2 value:  91.2529424838539\n",
      "p value:  7.13358531460184e-19\n",
      "dof value:  4\n",
      "Anxiety and engnat are NOT independent of each other. There are relationships between these categorical variables.\n"
     ]
    }
   ],
   "source": [
    "#Anxiety and engnat\n",
    "info = pd.crosstab(index=df['anxiety_status'], columns=df['engnat'])\n",
    "\n",
    "# perform chi square\n",
    "#print(info.values.tolist())\n",
    "chi2, p, dof, _ = chi2_contingency(info.values.tolist())\n",
    "print('chi2 value: ', chi2)\n",
    "print('p value: ', p)\n",
    "print('dof value: ', dof)\n",
    "\n",
    "\n",
    "if p < 0.05:\n",
    "  print(\n",
    "      'Anxiety and engnat are NOT independent of each other. There are relationships between these categorical variables.'\n",
    "  )\n",
    "else:\n",
    "    print(\n",
    "      'Anxiety and engnat are independent of each other.'\n",
    "  )"
   ]
  },
  {
   "cell_type": "code",
   "execution_count": 24,
   "id": "36a9dd56",
   "metadata": {},
   "outputs": [
    {
     "name": "stdout",
     "output_type": "stream",
     "text": [
      "F : 182.62778138442653\n",
      "p value: 1.1162160404643314e-79\n",
      "Anxiety and age has significant difference between the groups.\n"
     ]
    }
   ],
   "source": [
    "#Anxiety and age\n",
    "F,p = stats.f_oneway(df['age'][df['anxiety_status'] == 'Extremely Severe'],\n",
    "               df['age'][df['anxiety_status'] == 'Severe'],\n",
    "               df['age'][df['anxiety_status'] == 'Moderate'])\n",
    "print('F :', F)\n",
    "print('p value:', p)\n",
    "if p < 0.05:\n",
    "  print(\n",
    "      'Anxiety and age has significant difference between the groups.'\n",
    "  )\n",
    "else:\n",
    "    print(\n",
    "      'Anxiety and age has NO significant difference between the groups.'\n",
    "  )"
   ]
  },
  {
   "cell_type": "code",
   "execution_count": 25,
   "id": "df529f92",
   "metadata": {},
   "outputs": [
    {
     "name": "stdout",
     "output_type": "stream",
     "text": [
      "      Multiple Comparison of Means - Tukey HSD, FWER=0.05      \n",
      "===============================================================\n",
      "     group1       group2  meandiff p-adj  lower   upper  reject\n",
      "---------------------------------------------------------------\n",
      "Extremely Severe Moderate   8.1602 0.001  6.4717  9.8488   True\n",
      "Extremely Severe   Severe   4.8615 0.001  4.1534  5.5696   True\n",
      "        Moderate   Severe  -3.2988 0.001 -5.0872 -1.5104   True\n",
      "---------------------------------------------------------------\n",
      "There is a statistically significant difference in age between anxiety status of all groups. \n",
      "Figure(720x432)\n",
      "The age group around the age of 22 to 23 is the most severe for anxiety status.\n"
     ]
    },
    {
     "data": {
      "image/png": "[encoded data removed]",
      "text/plain": [
       "<Figure size 720x432 with 1 Axes>"
      ]
     },
     "metadata": {
      "needs_background": "light"
     },
     "output_type": "display_data"
    }
   ],
   "source": [
    "#post hoc\n",
    "comp = mc.MultiComparison(df['age'], df['anxiety_status'])\n",
    "post_hoc_res = comp.tukeyhsd()\n",
    "print(post_hoc_res.summary())\n",
    "print(\"There is a statistically significant difference in age between anxiety status of all groups. \")\n",
    "print(post_hoc_res.plot_simultaneous(ylabel= \"Anxiety Status\", xlabel= \"Age\"))\n",
    "print(\"The age group around the age of 22 to 23 is the most severe for anxiety status.\")"
   ]
  },
  {
   "cell_type": "code",
   "execution_count": 26,
   "id": "118f3a16",
   "metadata": {},
   "outputs": [
    {
     "name": "stdout",
     "output_type": "stream",
     "text": [
      "chi2 value:  427.75489513579384\n",
      "p value:  1.3007825963723119e-93\n",
      "dof value:  2\n",
      "Anxiety and screen size are NOT independent of each other.There are relationships between these categorical variables.\n"
     ]
    }
   ],
   "source": [
    "#Anxiety and screensize\n",
    "info = pd.crosstab(index=df['anxiety_status'], columns=df['screensize'])\n",
    "\n",
    "# perform chi square\n",
    "#print(info.values.tolist())\n",
    "chi2, p, dof, _ = chi2_contingency(info.values.tolist())\n",
    "print('chi2 value: ', chi2)\n",
    "print('p value: ', p)\n",
    "print('dof value: ', dof)\n",
    "\n",
    "\n",
    "if p < 0.05:\n",
    "  print(\n",
    "      'Anxiety and screen size are NOT independent of each other.There are relationships between these categorical variables.'\n",
    "  )\n",
    "else:\n",
    "    print(\n",
    "      'Anxiety and screen size are independent of each other.'\n",
    "  )"
   ]
  },
  {
   "cell_type": "code",
   "execution_count": 27,
   "id": "459345c2",
   "metadata": {
    "scrolled": true
   },
   "outputs": [
    {
     "name": "stdout",
     "output_type": "stream",
     "text": [
      "chi2 value:  35.00134596507881\n",
      "p value:  2.509309865650826e-08\n",
      "dof value:  2\n",
      "Anxiety and unique network location are NOT independent of each other. There are relationships between these categorical variables.\n"
     ]
    }
   ],
   "source": [
    "#Anxiety and uniquenetworklocation\n",
    "info = pd.crosstab(index=df['anxiety_status'], columns=df['uniquenetworklocation'])\n",
    "\n",
    "# perform chi square\n",
    "#print(info.values.tolist())\n",
    "chi2, p, dof, _ = chi2_contingency(info.values.tolist())\n",
    "print('chi2 value: ', chi2)\n",
    "print('p value: ', p)\n",
    "print('dof value: ', dof)\n",
    "\n",
    "\n",
    "if p < 0.05:\n",
    "  print(\n",
    "      'Anxiety and unique network location are NOT independent of each other. There are relationships between these categorical variables.'\n",
    "  )\n",
    "else:\n",
    "    print(\n",
    "      'Anxiety and unique network location are independent of each other.'\n",
    "  )"
   ]
  },
  {
   "cell_type": "code",
   "execution_count": 28,
   "id": "4dc83de2",
   "metadata": {},
   "outputs": [
    {
     "name": "stdout",
     "output_type": "stream",
     "text": [
      "chi2 value:  10.965077690965012\n",
      "p value:  0.0894617636369601\n",
      "dof value:  6\n",
      "Anxiety and hand are independent of each other.\n"
     ]
    }
   ],
   "source": [
    "###Anxiety and hand######\n",
    "###Effected#####\n",
    "info = pd.crosstab(index=df['anxiety_status'], columns=df['hand'])\n",
    "\n",
    "# perform chi square\n",
    "#print(info.values.tolist())\n",
    "chi2, p, dof, _ = chi2_contingency(info.values.tolist())\n",
    "print('chi2 value: ', chi2)\n",
    "print('p value: ', p)\n",
    "print('dof value: ', dof)\n",
    "\n",
    "\n",
    "if p < 0.05:\n",
    "  print(\n",
    "      'Anxiety and hand are NOT independent of each other. There are relationships between these categorical variables.'\n",
    "  )\n",
    "else:\n",
    "    print(\n",
    "      'Anxiety and hand are independent of each other.'\n",
    "  )\n"
   ]
  },
  {
   "cell_type": "code",
   "execution_count": 29,
   "id": "c5b0b5ff",
   "metadata": {},
   "outputs": [
    {
     "name": "stdout",
     "output_type": "stream",
     "text": [
      "chi2 value:  362.37280626757723\n",
      "p value:  3.775797571268239e-62\n",
      "dof value:  24\n",
      "Anxiety and religion are NOT independent of each other. There are relationships between these categorical variables.\n"
     ]
    }
   ],
   "source": [
    "#Anxiety and religion\n",
    "info = pd.crosstab(index=df['anxiety_status'], columns=df['religion'])\n",
    "\n",
    "# perform chi square\n",
    "#print(info.values.tolist())\n",
    "chi2, p, dof, _ = chi2_contingency(info.values.tolist())\n",
    "print('chi2 value: ', chi2)\n",
    "print('p value: ', p)\n",
    "print('dof value: ', dof)\n",
    "\n",
    "\n",
    "if p < 0.05:\n",
    "  print(\n",
    "      'Anxiety and religion are NOT independent of each other. There are relationships between these categorical variables.'\n",
    "  )\n",
    "else:\n",
    "    print(\n",
    "      'Anxiety and religion are independent of each other.'\n",
    "  )"
   ]
  },
  {
   "cell_type": "code",
   "execution_count": 30,
   "id": "39da9c2b",
   "metadata": {},
   "outputs": [
    {
     "name": "stdout",
     "output_type": "stream",
     "text": [
      "chi2 value:  439.4308581701877\n",
      "p value:  3.7495133383015107e-88\n",
      "dof value:  10\n",
      "Anxiety and orientation are NOT independent of each other. There are relationships between these categorical variables.\n"
     ]
    }
   ],
   "source": [
    "#Anxiety and orientation\n",
    "info = pd.crosstab(index=df['anxiety_status'], columns=df['orientation'])\n",
    "\n",
    "# perform chi square\n",
    "#print(info.values.tolist())\n",
    "chi2, p, dof, _ = chi2_contingency(info.values.tolist())\n",
    "print('chi2 value: ', chi2)\n",
    "print('p value: ', p)\n",
    "print('dof value: ', dof)\n",
    "\n",
    "\n",
    "if p < 0.05:\n",
    "  print(\n",
    "      'Anxiety and orientation are NOT independent of each other. There are relationships between these categorical variables.'\n",
    "  )\n",
    "else:\n",
    "    print(\n",
    "      'Anxiety and orientation are independent of each other.'\n",
    "  )"
   ]
  },
  {
   "cell_type": "code",
   "execution_count": 31,
   "id": "cd0739b7",
   "metadata": {},
   "outputs": [
    {
     "name": "stdout",
     "output_type": "stream",
     "text": [
      "chi2 value:  270.1457637277109\n",
      "p value:  8.482178588706789e-51\n",
      "dof value:  12\n",
      "Anxiety and race are NOT independent of each other. There are relationships between these categorical variables. \n"
     ]
    }
   ],
   "source": [
    "#Anxiety and race\n",
    "info = pd.crosstab(index=df['anxiety_status'], columns=df['race'])\n",
    "\n",
    "# perform chi square\n",
    "#print(info.values.tolist())\n",
    "chi2, p, dof, _ = chi2_contingency(info.values.tolist())\n",
    "print('chi2 value: ', chi2)\n",
    "print('p value: ', p)\n",
    "print('dof value: ', dof)\n",
    "\n",
    "\n",
    "if p < 0.05:\n",
    "  print(\n",
    "      'Anxiety and race are NOT independent of each other. There are relationships between these categorical variables. '\n",
    "  )\n",
    "else:\n",
    "    print(\n",
    "      'Anxiety and race are independent of each other.'\n",
    "  )"
   ]
  },
  {
   "cell_type": "code",
   "execution_count": 32,
   "id": "5b60aed9",
   "metadata": {},
   "outputs": [
    {
     "name": "stdout",
     "output_type": "stream",
     "text": [
      "chi2 value:  606.6372765788765\n",
      "p value:  5.671757897571128e-130\n",
      "dof value:  4\n",
      "Anxiety and voted are NOT independent of each other. There are relationships between these categorical variables.\n"
     ]
    }
   ],
   "source": [
    "#Anxiety and voted\n",
    "info = pd.crosstab(index=df['anxiety_status'], columns=df['voted'])\n",
    "\n",
    "# perform chi square\n",
    "#print(info.values.tolist())\n",
    "chi2, p, dof, _ = chi2_contingency(info.values.tolist())\n",
    "print('chi2 value: ', chi2)\n",
    "print('p value: ', p)\n",
    "print('dof value: ', dof)\n",
    "\n",
    "\n",
    "if p < 0.05:\n",
    "  print(\n",
    "      'Anxiety and voted are NOT independent of each other. There are relationships between these categorical variables.'\n",
    "  )\n",
    "else:\n",
    "    print(\n",
    "      'Anxiety and voted are independent of each other'\n",
    "  )"
   ]
  },
  {
   "cell_type": "code",
   "execution_count": 33,
   "id": "940062e7",
   "metadata": {
    "scrolled": true
   },
   "outputs": [
    {
     "name": "stdout",
     "output_type": "stream",
     "text": [
      "chi2 value:  1173.6081396823433\n",
      "p value:  2.4641489064221383e-250\n",
      "dof value:  6\n",
      "Anxiety and married are NOT independent of each other. There are relationships between these categorical variables.\n"
     ]
    }
   ],
   "source": [
    "#Anxiety and married\n",
    "info = pd.crosstab(index=df['anxiety_status'], columns=df['married'])\n",
    "\n",
    "# perform chi square\n",
    "#print(info.values.tolist())\n",
    "chi2, p, dof, _ = chi2_contingency(info.values.tolist())\n",
    "print('chi2 value: ', chi2)\n",
    "print('p value: ', p)\n",
    "print('dof value: ', dof)\n",
    "\n",
    "\n",
    "if p < 0.05:\n",
    "  print(\n",
    "      'Anxiety and married are NOT independent of each other. There are relationships between these categorical variables.'\n",
    "  )\n",
    "else:\n",
    "    print(\n",
    "      'Anxiety and married are independent of each other.'\n",
    "  )"
   ]
  },
  {
   "cell_type": "code",
   "execution_count": 34,
   "id": "406ef737",
   "metadata": {
    "scrolled": true
   },
   "outputs": [
    {
     "name": "stdout",
     "output_type": "stream",
     "text": [
      "F : 3.694540129983714\n",
      "p value: 0.02486741478769202\n",
      "Anxiety and family size has significant difference between the groups.\n"
     ]
    }
   ],
   "source": [
    "#Anxiety and family size\n",
    "F,p = stats.f_oneway(df['familysize'][df['anxiety_status'] == 'Extremely Severe'],\n",
    "               df['familysize'][df['anxiety_status'] == 'Severe'],\n",
    "               df['familysize'][df['anxiety_status'] == 'Moderate'])\n",
    "print('F :', F)\n",
    "print('p value:', p)\n",
    "if p < 0.05:\n",
    "  print(\n",
    "      'Anxiety and family size has significant difference between the groups.'\n",
    "  )\n",
    "else:\n",
    "    print(\n",
    "      'Anxiety and family size has NO significant difference between the groups.'\n",
    "  )"
   ]
  },
  {
   "cell_type": "code",
   "execution_count": 35,
   "id": "0f1581c2",
   "metadata": {},
   "outputs": [
    {
     "name": "stdout",
     "output_type": "stream",
     "text": [
      "      Multiple Comparison of Means - Tukey HSD, FWER=0.05       \n",
      "================================================================\n",
      "     group1       group2  meandiff p-adj   lower   upper  reject\n",
      "----------------------------------------------------------------\n",
      "Extremely Severe Moderate  -0.1941 0.0189 -0.3624 -0.0258   True\n",
      "Extremely Severe   Severe   -0.014 0.8778 -0.0846  0.0566  False\n",
      "        Moderate   Severe   0.1801  0.047  0.0018  0.3583   True\n",
      "----------------------------------------------------------------\n",
      "There is a statistically significant difference in family size between those who anxiety status are moderate and extremely severe, and anxiety status are moderate and severe, no other groups differed significantly. \n",
      "Figure(720x432)\n"
     ]
    },
    {
     "data": {
      "image/png": "[encoded data removed]",
      "text/plain": [
       "<Figure size 720x432 with 1 Axes>"
      ]
     },
     "metadata": {
      "needs_background": "light"
     },
     "output_type": "display_data"
    }
   ],
   "source": [
    "#post hoc\n",
    "comp = mc.MultiComparison(df['familysize'], df['anxiety_status'])\n",
    "post_hoc_res = comp.tukeyhsd()\n",
    "print(post_hoc_res.summary())\n",
    "print(\"There is a statistically significant difference in family size between those who anxiety status are moderate and extremely severe, and anxiety status are moderate and severe, no other groups differed significantly. \")\n",
    "print(post_hoc_res.plot_simultaneous(ylabel= \"Anxiety Status\", xlabel= \"Family Size\"))\n"
   ]
  },
  {
   "cell_type": "code",
   "execution_count": 36,
   "id": "17231737",
   "metadata": {
    "scrolled": true
   },
   "outputs": [
    {
     "name": "stdout",
     "output_type": "stream",
     "text": [
      "chi2 value:  11288.933113877549\n",
      "p value:  2.9678577932970194e-06\n",
      "dof value:  10616\n",
      "Anxiety and major are NOT independent of each other. There are relationships between these categorical variables.\n"
     ]
    }
   ],
   "source": [
    "#Anxiety and major\n",
    "info = pd.crosstab(index=df['anxiety_status'], columns=df['major'])\n",
    "\n",
    "# perform chi square\n",
    "#print(info.values.tolist())\n",
    "chi2, p, dof, _ = chi2_contingency(info.values.tolist())\n",
    "print('chi2 value: ', chi2)\n",
    "print('p value: ', p)\n",
    "print('dof value: ', dof)\n",
    "\n",
    "\n",
    "if p < 0.05:\n",
    "  print(\n",
    "      'Anxiety and major are NOT independent of each other. There are relationships between these categorical variables.'\n",
    "  )\n",
    "else:\n",
    "    print(\n",
    "      'Anxiety and major are independent of each other.'\n",
    "  )"
   ]
  },
  {
   "cell_type": "markdown",
   "id": "cc31d960",
   "metadata": {},
   "source": [
    "Stress"
   ]
  },
  {
   "cell_type": "code",
   "execution_count": 37,
   "id": "bb1547bf",
   "metadata": {
    "scrolled": true
   },
   "outputs": [
    {
     "name": "stdout",
     "output_type": "stream",
     "text": [
      "chi2 value:  787.4402183418634\n",
      "p value:  3.028185212777724e-157\n",
      "dof value:  16\n",
      "Stress and Education are NOT independent of each other. There are relationships between these categorical variables.\n"
     ]
    }
   ],
   "source": [
    "#Stress and education\n",
    "info = pd.crosstab(index=df['stress_status'], columns=df['education'])\n",
    "\n",
    "# perform chi square\n",
    "#print(info.values.tolist())\n",
    "chi2, p, dof, _ = chi2_contingency(info.values.tolist())\n",
    "print('chi2 value: ', chi2)\n",
    "print('p value: ', p)\n",
    "print('dof value: ', dof)\n",
    "\n",
    "\n",
    "if p < 0.05:\n",
    "  print(\n",
    "      'Stress and Education are NOT independent of each other. There are relationships between these categorical variables.'\n",
    "  )\n",
    "else:\n",
    "    print(\n",
    "      'Stress and Education are independent of each other.'\n",
    "  )"
   ]
  },
  {
   "cell_type": "code",
   "execution_count": 38,
   "id": "1f4b9db2",
   "metadata": {},
   "outputs": [
    {
     "name": "stdout",
     "output_type": "stream",
     "text": [
      "chi2 value:  56.85881534323863\n",
      "p value:  8.381862450216685e-08\n",
      "dof value:  12\n",
      "Stress and Urban are NOT independent of each other. There are relationships between these categorical variables.\n"
     ]
    }
   ],
   "source": [
    "#Stress and urban\n",
    "info = pd.crosstab(index=df['stress_status'], columns=df['urban'])\n",
    "\n",
    "# perform chi square\n",
    "#print(info.values.tolist())\n",
    "chi2, p, dof, _ = chi2_contingency(info.values.tolist())\n",
    "print('chi2 value: ', chi2)\n",
    "print('p value: ', p)\n",
    "print('dof value: ', dof)\n",
    "\n",
    "\n",
    "if p < 0.05:\n",
    "  print(\n",
    "      'Stress and Urban are NOT independent of each other. There are relationships between these categorical variables.'\n",
    "  )\n",
    "else:\n",
    "    print(\n",
    "      'Stress and Urban are NOT independent of each other.'\n",
    "  )"
   ]
  },
  {
   "cell_type": "code",
   "execution_count": 39,
   "id": "6f56b841",
   "metadata": {},
   "outputs": [
    {
     "name": "stdout",
     "output_type": "stream",
     "text": [
      "chi2 value:  680.5018351714807\n",
      "p value:  6.56340850137621e-138\n",
      "dof value:  12\n",
      "Stress and gender are NOT independent of each other. There are relationships between these categorical variables.\n"
     ]
    }
   ],
   "source": [
    "#Stress and gender\n",
    "info = pd.crosstab(index=df['stress_status'], columns=df['gender'])\n",
    "\n",
    "# perform chi square\n",
    "#print(info.values.tolist())\n",
    "chi2, p, dof, _ = chi2_contingency(info.values.tolist())\n",
    "print('chi2 value: ', chi2)\n",
    "print('p value: ', p)\n",
    "print('dof value: ', dof)\n",
    "\n",
    "\n",
    "if p < 0.05:\n",
    "  print(\n",
    "      'Stress and gender are NOT independent of each other. There are relationships between these categorical variables.'\n",
    "  )\n",
    "else:\n",
    "    print(\n",
    "      'Stress and gender are independent of each other.'\n",
    "  )"
   ]
  },
  {
   "cell_type": "code",
   "execution_count": 40,
   "id": "e16b1d6a",
   "metadata": {},
   "outputs": [
    {
     "name": "stdout",
     "output_type": "stream",
     "text": [
      "chi2 value:  81.19393797905116\n",
      "p value:  2.81033807500719e-14\n",
      "dof value:  8\n",
      "Stress and engnat are NOT independent of each other. There are relationships between these categorical variables.\n"
     ]
    }
   ],
   "source": [
    "#Stress and engnat\n",
    "info = pd.crosstab(index=df['stress_status'], columns=df['engnat'])\n",
    "\n",
    "# perform chi square\n",
    "#print(info.values.tolist())\n",
    "chi2, p, dof, _ = chi2_contingency(info.values.tolist())\n",
    "print('chi2 value: ', chi2)\n",
    "print('p value: ', p)\n",
    "print('dof value: ', dof)\n",
    "\n",
    "\n",
    "if p < 0.05:\n",
    "  print(\n",
    "      'Stress and engnat are NOT independent of each other. There are relationships between these categorical variables.'\n",
    "  )\n",
    "else:\n",
    "    print(\n",
    "      'Stress and engnat are independent of each other.'\n",
    "  )"
   ]
  },
  {
   "cell_type": "code",
   "execution_count": 41,
   "id": "083073c7",
   "metadata": {},
   "outputs": [
    {
     "name": "stdout",
     "output_type": "stream",
     "text": [
      "F : 46.15321374223654\n",
      "p value: 9.38658662789982e-39\n",
      "Stress and age has significant difference between the groups.\n"
     ]
    }
   ],
   "source": [
    "#Stress and age\n",
    "F,p = stats.f_oneway(df['age'][df['stress_status'] == 'Extremely Severe'],\n",
    "               df['age'][df['stress_status'] == 'Severe'],\n",
    "               df['age'][df['stress_status'] == 'Moderate'],\n",
    "              df['age'][df['stress_status'] == 'Normal'],\n",
    "              df['age'][df['stress_status'] == 'Mild'])\n",
    "\n",
    "print('F :', F)\n",
    "print('p value:', p)\n",
    "if p < 0.05:\n",
    "  print(\n",
    "      'Stress and age has significant difference between the groups.'\n",
    "  )\n",
    "else:\n",
    "    print(\n",
    "      'Stress and age has NO significant difference between the groups.'\n",
    "  )"
   ]
  },
  {
   "cell_type": "code",
   "execution_count": 42,
   "id": "1c9b1ae4",
   "metadata": {},
   "outputs": [
    {
     "name": "stdout",
     "output_type": "stream",
     "text": [
      "      Multiple Comparison of Means - Tukey HSD, FWER=0.05       \n",
      "================================================================\n",
      "     group1       group2  meandiff p-adj   lower   upper  reject\n",
      "----------------------------------------------------------------\n",
      "Extremely Severe     Mild    4.269  0.001  2.8732  5.6648   True\n",
      "Extremely Severe Moderate   3.2108  0.001  2.3616    4.06   True\n",
      "Extremely Severe   Normal   7.1702  0.001  3.8158 10.5246   True\n",
      "Extremely Severe   Severe   1.4303  0.001  0.7098  2.1508   True\n",
      "            Mild Moderate  -1.0582 0.3272 -2.5924   0.476  False\n",
      "            Mild   Normal   2.9012 0.1777 -0.6883  6.4907  False\n",
      "            Mild   Severe  -2.8387  0.001 -4.3056 -1.3718   True\n",
      "        Moderate   Normal   3.9594 0.0135  0.5451  7.3737   True\n",
      "        Moderate   Severe  -1.7805  0.001 -2.7421 -0.8189   True\n",
      "          Normal   Severe  -5.7399  0.001 -9.1245 -2.3553   True\n",
      "----------------------------------------------------------------\n",
      "There is a statistically significant difference in age between stress status of all groups except stress level of mild and moderate, and stress level of mild and severe. \n",
      "Figure(720x432)\n",
      "The age group around the age of 22 to 23 is the most severe for stress status.\n"
     ]
    },
    {
     "data": {
      "image/png": "[encoded data removed]",
      "text/plain": [
       "<Figure size 720x432 with 1 Axes>"
      ]
     },
     "metadata": {
      "needs_background": "light"
     },
     "output_type": "display_data"
    }
   ],
   "source": [
    "#post hoc\n",
    "comp = mc.MultiComparison(df['age'], df['stress_status'])\n",
    "post_hoc_res = comp.tukeyhsd()\n",
    "print(post_hoc_res.summary())\n",
    "print(\"There is a statistically significant difference in age between stress status of all groups except stress level of mild and moderate, and stress level of mild and severe. \")\n",
    "print(post_hoc_res.plot_simultaneous(ylabel= \"Stress Status\", xlabel= \"Age\"))\n",
    "print(\"The age group around the age of 22 to 23 is the most severe for stress status.\")"
   ]
  },
  {
   "cell_type": "code",
   "execution_count": 43,
   "id": "de57afbd",
   "metadata": {},
   "outputs": [
    {
     "name": "stdout",
     "output_type": "stream",
     "text": [
      "chi2 value:  107.9114595483348\n",
      "p value:  2.0292580215627902e-22\n",
      "dof value:  4\n",
      "Stress and screensize are NOT independent of each other. There are relationships between these categorical variables.\n"
     ]
    }
   ],
   "source": [
    "#Stress and screensize\n",
    "info = pd.crosstab(index=df['stress_status'], columns=df['screensize'])\n",
    "\n",
    "# perform chi square\n",
    "#print(info.values.tolist())\n",
    "chi2, p, dof, _ = chi2_contingency(info.values.tolist())\n",
    "print('chi2 value: ', chi2)\n",
    "print('p value: ', p)\n",
    "print('dof value: ', dof)\n",
    "\n",
    "\n",
    "if p < 0.05:\n",
    "  print(\n",
    "      'Stress and screensize are NOT independent of each other. There are relationships between these categorical variables.'\n",
    "  )\n",
    "else:\n",
    "    print(\n",
    "      'Stress and screensize are independent of each other.'\n",
    "  )"
   ]
  },
  {
   "cell_type": "code",
   "execution_count": 44,
   "id": "1421cf64",
   "metadata": {},
   "outputs": [
    {
     "name": "stdout",
     "output_type": "stream",
     "text": [
      "chi2 value:  9.633402929575663\n",
      "p value:  0.04707712228762675\n",
      "dof value:  4\n",
      "Stress and uniquenetworklocation are NOT independent of each other. There are relationships between these categorical variables.\n"
     ]
    }
   ],
   "source": [
    "#Stress and uniquenetworklocation\n",
    "info = pd.crosstab(index=df['stress_status'], columns=df['uniquenetworklocation'])\n",
    "\n",
    "# perform chi square\n",
    "#print(info.values.tolist())\n",
    "chi2, p, dof, _ = chi2_contingency(info.values.tolist())\n",
    "print('chi2 value: ', chi2)\n",
    "print('p value: ', p)\n",
    "print('dof value: ', dof)\n",
    "\n",
    "\n",
    "if p < 0.05:\n",
    "  print(\n",
    "      'Stress and uniquenetworklocation are NOT independent of each other. There are relationships between these categorical variables.'\n",
    "  )\n",
    "else:\n",
    "    print(\n",
    "      'Stress and uniquenetworklocation are independent of each other.'\n",
    "  )"
   ]
  },
  {
   "cell_type": "code",
   "execution_count": 45,
   "id": "60830dc3",
   "metadata": {},
   "outputs": [
    {
     "name": "stdout",
     "output_type": "stream",
     "text": [
      "chi2 value:  61.4094285918622\n",
      "p value:  1.2477818713848391e-08\n",
      "dof value:  12\n",
      "Stress and hand are NOT independent of each other. There are relationships between these categorical variables.\n"
     ]
    }
   ],
   "source": [
    "#Stress and hand\n",
    "info = pd.crosstab(index=df['stress_status'], columns=df['hand'])\n",
    "\n",
    "# perform chi square\n",
    "#print(info.values.tolist())\n",
    "chi2, p, dof, _ = chi2_contingency(info.values.tolist())\n",
    "print('chi2 value: ', chi2)\n",
    "print('p value: ', p)\n",
    "print('dof value: ', dof)\n",
    "\n",
    "\n",
    "if p < 0.05:\n",
    "  print(\n",
    "      'Stress and hand are NOT independent of each other. There are relationships between these categorical variables.'\n",
    "  )\n",
    "else:\n",
    "    print(\n",
    "      'Stress and hand are independent of each other.'\n",
    "  )"
   ]
  },
  {
   "cell_type": "code",
   "execution_count": 46,
   "id": "175229fd",
   "metadata": {},
   "outputs": [
    {
     "name": "stdout",
     "output_type": "stream",
     "text": [
      "chi2 value:  237.99089094451713\n",
      "p value:  5.4684206397830144e-27\n",
      "dof value:  48\n",
      "Stress and religion are NOT independent of each other. There are relationships between these categorical variables.\n"
     ]
    }
   ],
   "source": [
    "#Stress and religion\n",
    "info = pd.crosstab(index=df['stress_status'], columns=df['religion'])\n",
    "\n",
    "# perform chi square\n",
    "#print(info.values.tolist())\n",
    "chi2, p, dof, _ = chi2_contingency(info.values.tolist())\n",
    "print('chi2 value: ', chi2)\n",
    "print('p value: ', p)\n",
    "print('dof value: ', dof)\n",
    "\n",
    "\n",
    "if p < 0.05:\n",
    "  print(\n",
    "      'Stress and religion are NOT independent of each other. There are relationships between these categorical variables.'\n",
    "  )\n",
    "else:\n",
    "    print(\n",
    "      'Stress and religion are independent of each other.'\n",
    "  )"
   ]
  },
  {
   "cell_type": "code",
   "execution_count": 47,
   "id": "c8a81341",
   "metadata": {},
   "outputs": [
    {
     "name": "stdout",
     "output_type": "stream",
     "text": [
      "chi2 value:  496.1263223417723\n",
      "p value:  1.882856348040941e-92\n",
      "dof value:  20\n",
      "Stress and orientation are NOT independent of each other. There are relationships between these categorical variables.\n"
     ]
    }
   ],
   "source": [
    "#Stress and orientation\n",
    "info = pd.crosstab(index=df['stress_status'], columns=df['orientation'])\n",
    "\n",
    "# perform chi square\n",
    "#print(info.values.tolist())\n",
    "chi2, p, dof, _ = chi2_contingency(info.values.tolist())\n",
    "print('chi2 value: ', chi2)\n",
    "print('p value: ', p)\n",
    "print('dof value: ', dof)\n",
    "\n",
    "\n",
    "if p < 0.05:\n",
    "  print(\n",
    "      'Stress and orientation are NOT independent of each other. There are relationships between these categorical variables.'\n",
    "  )\n",
    "else:\n",
    "    print(\n",
    "      'Stress and orientation are independent of each other.'\n",
    "  )"
   ]
  },
  {
   "cell_type": "code",
   "execution_count": 48,
   "id": "b2e93c45",
   "metadata": {},
   "outputs": [
    {
     "name": "stdout",
     "output_type": "stream",
     "text": [
      "chi2 value:  107.09627524755741\n",
      "p value:  1.806117719197219e-12\n",
      "dof value:  24\n",
      "Stress and race are NOT independent of each other. There are relationships between these categorical variables.\n"
     ]
    }
   ],
   "source": [
    "#Stress and race\n",
    "info = pd.crosstab(index=df['stress_status'], columns=df['race'])\n",
    "\n",
    "# perform chi square\n",
    "#print(info.values.tolist())\n",
    "chi2, p, dof, _ = chi2_contingency(info.values.tolist())\n",
    "print('chi2 value: ', chi2)\n",
    "print('p value: ', p)\n",
    "print('dof value: ', dof)\n",
    "\n",
    "\n",
    "if p < 0.05:\n",
    "  print(\n",
    "      'Stress and race are NOT independent of each other. There are relationships between these categorical variables.'\n",
    "  )\n",
    "else:\n",
    "    print(\n",
    "      'Stress and race are independent of each other'\n",
    "  )"
   ]
  },
  {
   "cell_type": "code",
   "execution_count": 49,
   "id": "e76a23ff",
   "metadata": {},
   "outputs": [
    {
     "name": "stdout",
     "output_type": "stream",
     "text": [
      "chi2 value:  429.68321658212693\n",
      "p value:  8.312991616276009e-88\n",
      "dof value:  8\n",
      "Stress and voted are NOT independent of each other. There are relationships between these categorical variables.\n"
     ]
    }
   ],
   "source": [
    "#Stress and voted\n",
    "info = pd.crosstab(index=df['stress_status'], columns=df['voted'])\n",
    "\n",
    "# perform chi square\n",
    "#print(info.values.tolist())\n",
    "chi2, p, dof, _ = chi2_contingency(info.values.tolist())\n",
    "print('chi2 value: ', chi2)\n",
    "print('p value: ', p)\n",
    "print('dof value: ', dof)\n",
    "\n",
    "\n",
    "if p < 0.05:\n",
    "  print(\n",
    "      'Stress and voted are NOT independent of each other. There are relationships between these categorical variables.'\n",
    "  )\n",
    "else:\n",
    "    print(\n",
    "      'Stress and voted are independent of each other.'\n",
    "  )"
   ]
  },
  {
   "cell_type": "code",
   "execution_count": 50,
   "id": "2d3e6af1",
   "metadata": {
    "scrolled": true
   },
   "outputs": [
    {
     "name": "stdout",
     "output_type": "stream",
     "text": [
      "chi2 value:  546.4813015321422\n",
      "p value:  2.7837434950638835e-109\n",
      "dof value:  12\n",
      "Stress and married are NOT independent of each other. There are relationships between these categorical variables.\n"
     ]
    }
   ],
   "source": [
    "#Stress and married\n",
    "info = pd.crosstab(index=df['stress_status'], columns=df['married'])\n",
    "\n",
    "# perform chi square\n",
    "#print(info.values.tolist())\n",
    "chi2, p, dof, _ = chi2_contingency(info.values.tolist())\n",
    "print('chi2 value: ', chi2)\n",
    "print('p value: ', p)\n",
    "print('dof value: ', dof)\n",
    "\n",
    "\n",
    "if p < 0.05:\n",
    "  print(\n",
    "      'Stress and married are NOT independent of each other. There are relationships between these categorical variables.'\n",
    "  )\n",
    "else:\n",
    "    print(\n",
    "      'Stress and married are independent of each other.'\n",
    "  )"
   ]
  },
  {
   "cell_type": "code",
   "execution_count": 51,
   "id": "a06267ad",
   "metadata": {
    "scrolled": true
   },
   "outputs": [
    {
     "name": "stdout",
     "output_type": "stream",
     "text": [
      "F : 9.974520983256014\n",
      "p value: 4.584939087825784e-08\n",
      "Stress and family size has significant difference between the groups.\n"
     ]
    }
   ],
   "source": [
    "#Stress and family size\n",
    "F,p = stats.f_oneway(df['familysize'][df['stress_status'] == 'Extremely Severe'],\n",
    "               df['familysize'][df['stress_status'] == 'Severe'],\n",
    "               df['familysize'][df['stress_status'] == 'Moderate'],\n",
    "              df['familysize'][df['stress_status'] == 'Normal'],\n",
    "              df['familysize'][df['stress_status'] == 'Mild'])\n",
    "\n",
    "print('F :', F)\n",
    "print('p value:', p)\n",
    "if p < 0.05:\n",
    "  print(\n",
    "      'Stress and family size has significant difference between the groups.'\n",
    "  )\n",
    "else:\n",
    "    print(\n",
    "      'Stress and family size has NO significant difference between the groups.'\n",
    "  )"
   ]
  },
  {
   "cell_type": "code",
   "execution_count": 52,
   "id": "e741913b",
   "metadata": {},
   "outputs": [
    {
     "name": "stdout",
     "output_type": "stream",
     "text": [
      "      Multiple Comparison of Means - Tukey HSD, FWER=0.05       \n",
      "================================================================\n",
      "     group1       group2  meandiff p-adj   lower   upper  reject\n",
      "----------------------------------------------------------------\n",
      "Extremely Severe     Mild    0.192 0.0015  0.0533  0.3308   True\n",
      "Extremely Severe Moderate    0.165  0.001  0.0806  0.2494   True\n",
      "Extremely Severe   Normal    0.179 0.5744 -0.1545  0.5124  False\n",
      "Extremely Severe   Severe   0.0687 0.0677  -0.003  0.1403  False\n",
      "            Mild Moderate   -0.027    0.9 -0.1795  0.1255  False\n",
      "            Mild   Normal  -0.0131    0.9 -0.3699  0.3438  False\n",
      "            Mild   Severe  -0.1234 0.1421 -0.2692  0.0224  False\n",
      "        Moderate   Normal    0.014    0.9 -0.3254  0.3534  False\n",
      "        Moderate   Severe  -0.0964 0.0471 -0.1919 -0.0008   True\n",
      "          Normal   Severe  -0.1103 0.8977 -0.4468  0.2261  False\n",
      "----------------------------------------------------------------\n",
      "There is a statistically significant difference in family size between those who stress status are mild and extremely severe, stress status that are moderate and extremely severe, and stress status that are moderate and severe, no other groups differed significantly. \n",
      "Figure(720x432)\n"
     ]
    },
    {
     "data": {
      "image/png": "[encoded data removed]",
      "text/plain": [
       "<Figure size 720x432 with 1 Axes>"
      ]
     },
     "metadata": {
      "needs_background": "light"
     },
     "output_type": "display_data"
    }
   ],
   "source": [
    "#post hoc\n",
    "comp = mc.MultiComparison(df['familysize'], df['stress_status'])\n",
    "post_hoc_res = comp.tukeyhsd()\n",
    "print(post_hoc_res.summary())\n",
    "print(\"There is a statistically significant difference in family size between those who stress status are mild and extremely severe, stress status that are moderate and extremely severe, and stress status that are moderate and severe, no other groups differed significantly. \")\n",
    "print(post_hoc_res.plot_simultaneous(ylabel= \"Stress Status\", xlabel= \"Family Size\"))\n"
   ]
  },
  {
   "cell_type": "code",
   "execution_count": 53,
   "id": "6f127783",
   "metadata": {
    "scrolled": true
   },
   "outputs": [
    {
     "name": "stdout",
     "output_type": "stream",
     "text": [
      "chi2 value:  22141.965811294365\n",
      "p value:  6.577121764052317e-06\n",
      "dof value:  21232\n",
      "Stress and major are NOT independent of each other. There are relationships between these categorical variables.\n"
     ]
    }
   ],
   "source": [
    "#Stress and major\n",
    "info = pd.crosstab(index=df['stress_status'], columns=df['major'])\n",
    "\n",
    "# perform chi square\n",
    "#print(info.values.tolist())\n",
    "chi2, p, dof, _ = chi2_contingency(info.values.tolist())\n",
    "print('chi2 value: ', chi2)\n",
    "print('p value: ', p)\n",
    "print('dof value: ', dof)\n",
    "\n",
    "\n",
    "if p < 0.05:\n",
    "  print(\n",
    "      'Stress and major are NOT independent of each other. There are relationships between these categorical variables.'\n",
    "  )\n",
    "else:\n",
    "    print(\n",
    "      'Stress and major are independent of each other.'\n",
    "  )"
   ]
  },
  {
   "cell_type": "markdown",
   "id": "73415b37",
   "metadata": {},
   "source": [
    "All the catergorical variables have relationship between each of the depression, stress and anxiety status except for hand and anxiety status. Wheareas for the numerical variables, both the age and family size have different means across different status of depression, stress and anxiety. "
   ]
  }
 ],
 "metadata": {
  "kernelspec": {
   "display_name": "Python 3 (ipykernel)",
   "language": "python",
   "name": "python3"
  },
  "language_info": {
   "codemirror_mode": {
    "name": "ipython",
    "version": 3
   },
   "file_extension": ".py",
   "mimetype": "text/x-python",
   "name": "python",
   "nbconvert_exporter": "python",
   "pygments_lexer": "ipython3",
   "version": "3.10.1"
  }
 },
 "nbformat": 4,
 "nbformat_minor": 5
}
